{
 "cells": [
  {
   "cell_type": "code",
   "execution_count": 1,
   "id": "97c0bf03",
   "metadata": {},
   "outputs": [
    {
     "name": "stderr",
     "output_type": "stream",
     "text": [
      "2025-06-30 05:25:48.597132: I tensorflow/core/util/port.cc:153] oneDNN custom operations are on. You may see slightly different numerical results due to floating-point round-off errors from different computation orders. To turn them off, set the environment variable `TF_ENABLE_ONEDNN_OPTS=0`.\n",
      "2025-06-30 05:25:48.709947: I external/local_xla/xla/tsl/cuda/cudart_stub.cc:32] Could not find cuda drivers on your machine, GPU will not be used.\n",
      "2025-06-30 05:25:49.914636: I external/local_xla/xla/tsl/cuda/cudart_stub.cc:32] Could not find cuda drivers on your machine, GPU will not be used.\n",
      "2025-06-30 05:25:50.456334: E external/local_xla/xla/stream_executor/cuda/cuda_fft.cc:467] Unable to register cuFFT factory: Attempting to register factory for plugin cuFFT when one has already been registered\n",
      "WARNING: All log messages before absl::InitializeLog() is called are written to STDERR\n",
      "E0000 00:00:1751261150.989723    1042 cuda_dnn.cc:8579] Unable to register cuDNN factory: Attempting to register factory for plugin cuDNN when one has already been registered\n",
      "E0000 00:00:1751261151.175571    1042 cuda_blas.cc:1407] Unable to register cuBLAS factory: Attempting to register factory for plugin cuBLAS when one has already been registered\n",
      "W0000 00:00:1751261152.480283    1042 computation_placer.cc:177] computation placer already registered. Please check linkage and avoid linking the same target more than once.\n",
      "W0000 00:00:1751261152.480312    1042 computation_placer.cc:177] computation placer already registered. Please check linkage and avoid linking the same target more than once.\n",
      "W0000 00:00:1751261152.480314    1042 computation_placer.cc:177] computation placer already registered. Please check linkage and avoid linking the same target more than once.\n",
      "W0000 00:00:1751261152.480315    1042 computation_placer.cc:177] computation placer already registered. Please check linkage and avoid linking the same target more than once.\n",
      "2025-06-30 05:25:52.607583: I tensorflow/core/platform/cpu_feature_guard.cc:210] This TensorFlow binary is optimized to use available CPU instructions in performance-critical operations.\n",
      "To enable the following instructions: AVX2 AVX512F AVX512_VNNI FMA, in other operations, rebuild TensorFlow with the appropriate compiler flags.\n"
     ]
    }
   ],
   "source": [
    "import json\n",
    "from keras.models import Model, Sequential\n",
    "from keras.optimizers import Adam, SGD, RMSprop\n",
    "import preprocess\n",
    "import model  # import your model\n"
   ]
  },
  {
   "cell_type": "code",
   "execution_count": null,
   "id": "9b4b3485",
   "metadata": {},
   "outputs": [],
   "source": [
    "def get_model(name, input_shape, num_classes, dropout):\n",
    "    if name == \"model\":\n",
    "        return model.build_model(input_shape=input_shape, num_classes=num_classes, dropout=dropout)\n",
    "    else:\n",
    "        raise ValueError(\"Unknown model name.\")\n",
    "\n",
    "def train(model, config, train_ds, val_ds, name):\n",
    "    model.compile(\n",
    "        optimizer=Adam(learning_rate=config[\"learning_rate\"]),\n",
    "        loss=\"categorical_crossentropy\",\n",
    "        metrics=[\"accuracy\"]\n",
    "    )\n",
    "    history = model.fit(\n",
    "        train_ds,\n",
    "        validation_data=val_ds,\n",
    "        epochs=config[\"epochs\"]\n",
    "    )\n",
    "    model.save(f\"models/{name}_model.h5\")\n",
    "    print(f\"{name} model saved at models/{name}_model.h5!\")\n",
    "    return history\n"
   ]
  },
  {
   "cell_type": "code",
   "execution_count": 4,
   "id": "05459e5c",
   "metadata": {},
   "outputs": [
    {
     "name": "stdout",
     "output_type": "stream",
     "text": [
      "Found 28821 files belonging to 7 classes.\n"
     ]
    },
    {
     "name": "stderr",
     "output_type": "stream",
     "text": [
      "2025-06-29 15:11:59.687134: E external/local_xla/xla/stream_executor/cuda/cuda_platform.cc:51] failed call to cuInit: INTERNAL: CUDA error: Failed call to cuInit: UNKNOWN ERROR (303)\n"
     ]
    },
    {
     "name": "stdout",
     "output_type": "stream",
     "text": [
      "Found 7066 files belonging to 7 classes.\n"
     ]
    },
    {
     "name": "stderr",
     "output_type": "stream",
     "text": [
      "/opt/conda/envs/ml-env/lib/python3.9/site-packages/keras/src/layers/core/input_layer.py:27: UserWarning: Argument `input_shape` is deprecated. Use `shape` instead.\n",
      "  warnings.warn(\n"
     ]
    }
   ],
   "source": [
    "\n",
    "model_name = \"model\"  \n",
    "\n",
    "# Load config from file (change path accordingly)\n",
    "config_path = \"../../config/config1.json\"\n",
    "with open(config_path) as f:\n",
    "    config = json.load(f)\n",
    "\n",
    "input_shape = (48, 48, 1)\n",
    "num_classes = 7\n",
    "\n",
    "# Load datasets\n",
    "train_ds, val_ds, _ = preprocess.get_data_splits(img_size=(48, 48), batch_size=config[\"batch_size\"])\n",
    "\n",
    "# Apply augmentation on training data\n",
    "augment = preprocess.get_augmentation_model(input_shape=input_shape)\n",
    "train_ds = train_ds.map(lambda x, y: (augment(x, training=True), y))\n"
   ]
  },
  {
   "cell_type": "code",
   "execution_count": null,
   "id": "a49c4e24",
   "metadata": {},
   "outputs": [
    {
     "name": "stderr",
     "output_type": "stream",
     "text": [
      "/opt/conda/envs/ml-env/lib/python3.9/site-packages/keras/src/layers/convolutional/base_conv.py:113: UserWarning: Do not pass an `input_shape`/`input_dim` argument to a layer. When using Sequential models, prefer using an `Input(shape)` object as the first layer in the model instead.\n",
      "  super().__init__(activity_regularizer=activity_regularizer, **kwargs)\n"
     ]
    },
    {
     "name": "stdout",
     "output_type": "stream",
     "text": [
      "Epoch 1/20\n",
      "\u001b[1m901/901\u001b[0m \u001b[32m━━━━━━━━━━━━━━━━━━━━\u001b[0m\u001b[37m\u001b[0m \u001b[1m282s\u001b[0m 307ms/step - accuracy: 0.2095 - loss: 2.1348 - val_accuracy: 8.4914e-04 - val_loss: 154.7178\n",
      "Epoch 2/20\n",
      "\u001b[1m901/901\u001b[0m \u001b[32m━━━━━━━━━━━━━━━━━━━━\u001b[0m\u001b[37m\u001b[0m \u001b[1m269s\u001b[0m 298ms/step - accuracy: 0.2594 - loss: 1.7987 - val_accuracy: 0.0000e+00 - val_loss: 168.5153\n",
      "Epoch 3/20\n",
      "\u001b[1m312/901\u001b[0m \u001b[32m━━━━━━\u001b[0m\u001b[37m━━━━━━━━━━━━━━\u001b[0m \u001b[1m2:51\u001b[0m 290ms/step - accuracy: 0.2955 - loss: 1.7311"
     ]
    }
   ],
   "source": [
    "model = get_model(model_name, input_shape, num_classes, config.get(\"dropout\", 0.5))\n",
    "#  Train the model and return training history\n",
    "history = train(model, config, train_ds, val_ds, model_name)\n"
   ]
  },
  {
   "cell_type": "code",
   "execution_count": null,
   "id": "5435fe0e",
   "metadata": {},
   "outputs": [],
   "source": []
  }
 ],
 "metadata": {
  "kernelspec": {
   "display_name": "ml-env",
   "language": "python",
   "name": "python3"
  },
  "language_info": {
   "codemirror_mode": {
    "name": "ipython",
    "version": 3
   },
   "file_extension": ".py",
   "mimetype": "text/x-python",
   "name": "python",
   "nbconvert_exporter": "python",
   "pygments_lexer": "ipython3",
   "version": "3.9.23"
  }
 },
 "nbformat": 4,
 "nbformat_minor": 5
}
