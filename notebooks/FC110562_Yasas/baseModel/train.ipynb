{
 "cells": [
  {
   "cell_type": "code",
   "execution_count": 10,
   "id": "97c0bf03",
   "metadata": {},
   "outputs": [],
   "source": [
    "import json\n",
    "from keras.models import Model, Sequential\n",
    "from keras.optimizers import Adam, SGD, RMSprop\n",
    "import preprocess\n",
    "import model  # import your model\n",
    "import matplotlib.pyplot as plt\n",
    "from keras.layers import Dense,Input,Dropout,GlobalAveragePooling2D,Flatten,Conv2D,BatchNormalization,Activation,MaxPooling2D\n",
    "from keras.models import Model,Sequential\n",
    "from keras.optimizers import Adam,SGD,RMSprop\n",
    "from keras import layers, models\n",
    "import tensorflow as tf\n",
    "import numpy as np\n",
    "from sklearn.model_selection import train_test_split\n",
    "#from tensorflow.keras.utils import to_categorical\n",
    "from keras.utils import to_categorical\n",
    "from keras.preprocessing import image_dataset_from_directory\n",
    "from keras.callbacks import EarlyStopping, ModelCheckpoint, ReduceLROnPlateau\n"
   ]
  },
  {
   "cell_type": "code",
   "execution_count": 11,
   "id": "9b4b3485",
   "metadata": {},
   "outputs": [],
   "source": [
    "def get_model(name, input_shape, num_classes, dropout):\n",
    "    if name == \"model\":\n",
    "        return model.build_model(input_shape=input_shape, num_classes=num_classes, dropout=dropout)\n",
    "    else:\n",
    "        raise ValueError(\"Unknown model name.\")\n",
    "\n",
    "# def train(model, config, train_ds, val_ds, name):\n",
    "#     model.compile(\n",
    "#         optimizer=Adam(learning_rate=config[\"learning_rate\"]),\n",
    "#         loss=\"categorical_crossentropy\",\n",
    "#         metrics=[\"accuracy\"]\n",
    "#     )\n",
    "#     history = model.fit(\n",
    "#         train_ds,\n",
    "#         validation_data=val_ds,\n",
    "#         epochs=config[\"epochs\"]\n",
    "#     )\n",
    "#     model.save(f\"models/{name}_model.h5\")\n",
    "#     print(f\"{name} model saved at models/{name}_model.h5!\")\n",
    "#     return history\n",
    "\n",
    "\n",
    "\n",
    "def train(model, config, train_ds, val_ds, name):\n",
    "    model.compile(\n",
    "        optimizer=Adam(learning_rate=config[\"learning_rate\"]),\n",
    "        loss=\"categorical_crossentropy\",\n",
    "        metrics=[\"accuracy\"]\n",
    "    )\n",
    "\n",
    "    # EarlyStopping callback\n",
    "    early_stop = EarlyStopping(\n",
    "        monitor='val_loss',\n",
    "        patience=3,\n",
    "        restore_best_weights=True,\n",
    "        verbose=1,\n",
    "         min_delta=0.0001\n",
    "    )\n",
    "\n",
    "    # ReduceLROnPlateau callback\n",
    "    reduce_lr = ReduceLROnPlateau(\n",
    "        monitor='val_loss',\n",
    "        factor=0.2,\n",
    "        patience=3,\n",
    "        verbose=1,\n",
    "        min_delta=0.0001\n",
    "    )\n",
    "\n",
    "    history = model.fit(\n",
    "        train_ds,\n",
    "        validation_data=val_ds,\n",
    "        epochs=config[\"epochs\"],\n",
    "        callbacks=[early_stop]\n",
    "    )\n",
    "\n",
    "    model.save(f\"models/{name}_model.h5\")\n",
    "    print(f\"{name} model saved at models/{name}_model.h5!\")\n",
    "    return history\n"
   ]
  },
  {
   "cell_type": "code",
   "execution_count": 12,
   "id": "05459e5c",
   "metadata": {},
   "outputs": [
    {
     "name": "stdout",
     "output_type": "stream",
     "text": [
      "Found 28821 images belonging to 7 classes.\n",
      "Found 7066 images belonging to 7 classes.\n"
     ]
    }
   ],
   "source": [
    "\n",
    "model_name = \"model\"  \n",
    "folder_path = \"../../../Data/images/\"\n",
    "\n",
    "# Load config from file (change path accordingly)\n",
    "config_path = \"../config/config1.json\"\n",
    "with open(config_path) as f:\n",
    "    config = json.load(f)\n",
    "\n",
    "input_shape = (48, 48, 1)\n",
    "num_classes = 7\n",
    "\n",
    "# Load datasets\n",
    "#train_ds,val_ds = preprocess.get_data_splits(img_size=(48, 48), batch_size=config[\"batch_size\"])\n",
    "#train_ds,val_ds = preprocess.stratified_data_split(\"../../../Data/images/train\")\n",
    "\n",
    "\n",
    "\n",
    "\n",
    "batch_size = 64\n",
    "picture_size = 48\n",
    "\n",
    "train_ds, val_ds = preprocess.get_augmented_data_generators(folder_path, picture_size, batch_size)\n",
    "\n",
    "# Apply augmentation on training data\n",
    "# augment = preprocess.get_augmentation_model(input_shape=input_shape)\n",
    "# train_ds = train_ds.map(lambda x, y: (augment(x, training=True), y))\n",
    "\n"
   ]
  },
  {
   "cell_type": "code",
   "execution_count": 13,
   "id": "a49c4e24",
   "metadata": {},
   "outputs": [
    {
     "name": "stdout",
     "output_type": "stream",
     "text": [
      "Epoch 1/50\n",
      "\u001b[1m451/451\u001b[0m \u001b[32m━━━━━━━━━━━━━━━━━━━━\u001b[0m\u001b[37m\u001b[0m \u001b[1m277s\u001b[0m 609ms/step - accuracy: 0.2005 - loss: 2.1711 - val_accuracy: 0.2583 - val_loss: 1.9131\n",
      "Epoch 2/50\n",
      "\u001b[1m451/451\u001b[0m \u001b[32m━━━━━━━━━━━━━━━━━━━━\u001b[0m\u001b[37m\u001b[0m \u001b[1m285s\u001b[0m 631ms/step - accuracy: 0.2605 - loss: 1.8145 - val_accuracy: 0.2591 - val_loss: 2.4014\n",
      "Epoch 3/50\n",
      "\u001b[1m451/451\u001b[0m \u001b[32m━━━━━━━━━━━━━━━━━━━━\u001b[0m\u001b[37m\u001b[0m \u001b[1m291s\u001b[0m 645ms/step - accuracy: 0.3332 - loss: 1.6697 - val_accuracy: 0.3680 - val_loss: 1.6120\n",
      "Epoch 4/50\n",
      "\u001b[1m451/451\u001b[0m \u001b[32m━━━━━━━━━━━━━━━━━━━━\u001b[0m\u001b[37m\u001b[0m \u001b[1m284s\u001b[0m 630ms/step - accuracy: 0.3800 - loss: 1.5803 - val_accuracy: 0.4382 - val_loss: 1.4843\n",
      "Epoch 5/50\n",
      "\u001b[1m451/451\u001b[0m \u001b[32m━━━━━━━━━━━━━━━━━━━━\u001b[0m\u001b[37m\u001b[0m \u001b[1m280s\u001b[0m 620ms/step - accuracy: 0.4144 - loss: 1.5035 - val_accuracy: 0.4372 - val_loss: 1.4952\n",
      "Epoch 6/50\n",
      "\u001b[1m451/451\u001b[0m \u001b[32m━━━━━━━━━━━━━━━━━━━━\u001b[0m\u001b[37m\u001b[0m \u001b[1m278s\u001b[0m 617ms/step - accuracy: 0.4374 - loss: 1.4480 - val_accuracy: 0.4672 - val_loss: 1.3264\n",
      "Epoch 7/50\n",
      "\u001b[1m451/451\u001b[0m \u001b[32m━━━━━━━━━━━━━━━━━━━━\u001b[0m\u001b[37m\u001b[0m \u001b[1m278s\u001b[0m 617ms/step - accuracy: 0.4592 - loss: 1.3995 - val_accuracy: 0.4942 - val_loss: 1.2890\n",
      "Epoch 8/50\n",
      "\u001b[1m451/451\u001b[0m \u001b[32m━━━━━━━━━━━━━━━━━━━━\u001b[0m\u001b[37m\u001b[0m \u001b[1m281s\u001b[0m 622ms/step - accuracy: 0.4690 - loss: 1.3756 - val_accuracy: 0.5246 - val_loss: 1.2620\n",
      "Epoch 9/50\n",
      "\u001b[1m451/451\u001b[0m \u001b[32m━━━━━━━━━━━━━━━━━━━━\u001b[0m\u001b[37m\u001b[0m \u001b[1m294s\u001b[0m 652ms/step - accuracy: 0.4798 - loss: 1.3537 - val_accuracy: 0.5342 - val_loss: 1.2361\n",
      "Epoch 10/50\n",
      "\u001b[1m451/451\u001b[0m \u001b[32m━━━━━━━━━━━━━━━━━━━━\u001b[0m\u001b[37m\u001b[0m \u001b[1m276s\u001b[0m 613ms/step - accuracy: 0.4978 - loss: 1.3151 - val_accuracy: 0.5320 - val_loss: 1.2443\n",
      "Epoch 11/50\n",
      "\u001b[1m451/451\u001b[0m \u001b[32m━━━━━━━━━━━━━━━━━━━━\u001b[0m\u001b[37m\u001b[0m \u001b[1m282s\u001b[0m 626ms/step - accuracy: 0.4991 - loss: 1.3108 - val_accuracy: 0.5568 - val_loss: 1.1700\n",
      "Epoch 12/50\n",
      "\u001b[1m451/451\u001b[0m \u001b[32m━━━━━━━━━━━━━━━━━━━━\u001b[0m\u001b[37m\u001b[0m \u001b[1m275s\u001b[0m 610ms/step - accuracy: 0.5150 - loss: 1.2800 - val_accuracy: 0.5454 - val_loss: 1.1930\n",
      "Epoch 13/50\n",
      "\u001b[1m451/451\u001b[0m \u001b[32m━━━━━━━━━━━━━━━━━━━━\u001b[0m\u001b[37m\u001b[0m \u001b[1m276s\u001b[0m 611ms/step - accuracy: 0.5179 - loss: 1.2744 - val_accuracy: 0.5584 - val_loss: 1.1630\n",
      "Epoch 14/50\n",
      "\u001b[1m451/451\u001b[0m \u001b[32m━━━━━━━━━━━━━━━━━━━━\u001b[0m\u001b[37m\u001b[0m \u001b[1m274s\u001b[0m 607ms/step - accuracy: 0.5194 - loss: 1.2622 - val_accuracy: 0.5316 - val_loss: 1.2351\n",
      "Epoch 15/50\n",
      "\u001b[1m451/451\u001b[0m \u001b[32m━━━━━━━━━━━━━━━━━━━━\u001b[0m\u001b[37m\u001b[0m \u001b[1m275s\u001b[0m 610ms/step - accuracy: 0.5231 - loss: 1.2583 - val_accuracy: 0.5584 - val_loss: 1.1409\n",
      "Epoch 16/50\n",
      "\u001b[1m451/451\u001b[0m \u001b[32m━━━━━━━━━━━━━━━━━━━━\u001b[0m\u001b[37m\u001b[0m \u001b[1m275s\u001b[0m 610ms/step - accuracy: 0.5312 - loss: 1.2322 - val_accuracy: 0.5689 - val_loss: 1.1162\n",
      "Epoch 17/50\n",
      "\u001b[1m451/451\u001b[0m \u001b[32m━━━━━━━━━━━━━━━━━━━━\u001b[0m\u001b[37m\u001b[0m \u001b[1m273s\u001b[0m 604ms/step - accuracy: 0.5372 - loss: 1.2287 - val_accuracy: 0.5376 - val_loss: 1.1996\n",
      "Epoch 18/50\n",
      "\u001b[1m451/451\u001b[0m \u001b[32m━━━━━━━━━━━━━━━━━━━━\u001b[0m\u001b[37m\u001b[0m \u001b[1m276s\u001b[0m 612ms/step - accuracy: 0.5395 - loss: 1.2135 - val_accuracy: 0.5624 - val_loss: 1.1600\n",
      "Epoch 19/50\n",
      "\u001b[1m451/451\u001b[0m \u001b[32m━━━━━━━━━━━━━━━━━━━━\u001b[0m\u001b[37m\u001b[0m \u001b[1m276s\u001b[0m 612ms/step - accuracy: 0.5366 - loss: 1.2131 - val_accuracy: 0.5747 - val_loss: 1.1073\n",
      "Epoch 20/50\n",
      "\u001b[1m451/451\u001b[0m \u001b[32m━━━━━━━━━━━━━━━━━━━━\u001b[0m\u001b[37m\u001b[0m \u001b[1m283s\u001b[0m 628ms/step - accuracy: 0.5406 - loss: 1.2068 - val_accuracy: 0.5572 - val_loss: 1.1596\n",
      "Epoch 21/50\n",
      "\u001b[1m451/451\u001b[0m \u001b[32m━━━━━━━━━━━━━━━━━━━━\u001b[0m\u001b[37m\u001b[0m \u001b[1m273s\u001b[0m 605ms/step - accuracy: 0.5474 - loss: 1.1979 - val_accuracy: 0.5620 - val_loss: 1.1359\n",
      "Epoch 22/50\n",
      "\u001b[1m451/451\u001b[0m \u001b[32m━━━━━━━━━━━━━━━━━━━━\u001b[0m\u001b[37m\u001b[0m \u001b[1m269s\u001b[0m 597ms/step - accuracy: 0.5515 - loss: 1.1903 - val_accuracy: 0.5671 - val_loss: 1.1512\n",
      "Epoch 22: early stopping\n",
      "Restoring model weights from the end of the best epoch: 19.\n"
     ]
    },
    {
     "name": "stderr",
     "output_type": "stream",
     "text": [
      "WARNING:absl:You are saving your model as an HDF5 file via `model.save()` or `keras.saving.save_model(model)`. This file format is considered legacy. We recommend using instead the native Keras format, e.g. `model.save('my_model.keras')` or `keras.saving.save_model(model, 'my_model.keras')`. \n"
     ]
    },
    {
     "name": "stdout",
     "output_type": "stream",
     "text": [
      "model model saved at models/model_model.h5!\n"
     ]
    }
   ],
   "source": [
    "model = get_model(model_name, input_shape, num_classes, config.get(\"dropout\", 0.5))\n",
    "#  Train the model and return training history\n",
    "history = train(model, config, train_ds, val_ds, model_name)\n",
    "\n"
   ]
  },
  {
   "cell_type": "code",
   "execution_count": 14,
   "id": "5435fe0e",
   "metadata": {},
   "outputs": [
    {
     "data": {
      "image/png": "[encoded data removed]",
      "text/plain": [
       "<Figure size 640x480 with 1 Axes>"
      ]
     },
     "metadata": {},
     "output_type": "display_data"
    }
   ],
   "source": [
    "plt.plot(history.history['loss'], label='Train Loss')\n",
    "plt.plot(history.history['val_loss'], label='Val Loss')\n",
    "plt.title(\"Training vs Validation Loss\")\n",
    "plt.legend()\n",
    "plt.show()"
   ]
  },
  {
   "cell_type": "code",
   "execution_count": null,
   "id": "2e4150a4",
   "metadata": {},
   "outputs": [],
   "source": [
    "\n"
   ]
  },
  {
   "cell_type": "code",
   "execution_count": null,
   "id": "477f9dc4",
   "metadata": {},
   "outputs": [],
   "source": []
  }
 ],
 "metadata": {
  "kernelspec": {
   "display_name": "ml-env",
   "language": "python",
   "name": "python3"
  },
  "language_info": {
   "codemirror_mode": {
    "name": "ipython",
    "version": 3
   },
   "file_extension": ".py",
   "mimetype": "text/x-python",
   "name": "python",
   "nbconvert_exporter": "python",
   "pygments_lexer": "ipython3",
   "version": "3.9.23"
  }
 },
 "nbformat": 4,
 "nbformat_minor": 5
}
