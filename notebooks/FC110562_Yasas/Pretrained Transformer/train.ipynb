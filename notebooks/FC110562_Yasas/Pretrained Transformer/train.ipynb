{
 "cells": [
  {
   "cell_type": "code",
   "execution_count": 2,
   "id": "698a3a8d",
   "metadata": {},
   "outputs": [],
   "source": [
    "import torch\n",
    "from torch import nn\n",
    "from torch.utils.data import DataLoader,random_split\n",
    "from torchvision import transforms,datasets\n",
    "from transformers import ViTForImageClassification,ViTFeatureExtractor\n",
    "from tqdm import tqdm"
   ]
  },
  {
   "cell_type": "code",
   "execution_count": 3,
   "id": "bdad942f",
   "metadata": {},
   "outputs": [],
   "source": [
    "folderPath = \"../../../Data/images/\"\n",
    "\n",
    "NUM_CLASSES = 7\n",
    "BATCH_SIZE = 32\n",
    "IMG_SIZE = 224\n",
    "EPOCHS = 5\n",
    "TRAIN_DIR=folderPath+\"train\"\n",
    "DEVICE =torch.device(\"cuda\" if torch.cuda.is_available() else \"cpu\")"
   ]
  },
  {
   "cell_type": "code",
   "execution_count": 4,
   "id": "64c090ef",
   "metadata": {},
   "outputs": [
    {
     "data": {
      "application/vnd.jupyter.widget-view+json": {
       "model_id": "78124d990386449393d6bbf9bc22782d",
       "version_major": 2,
       "version_minor": 0
      },
      "text/plain": [
       "preprocessor_config.json:   0%|          | 0.00/160 [00:00<?, ?B/s]"
      ]
     },
     "metadata": {},
     "output_type": "display_data"
    },
    {
     "name": "stderr",
     "output_type": "stream",
     "text": [
      "/Users/himasha/Downloads/Emotion_detector-main/.venv/lib/python3.11/site-packages/transformers/models/vit/feature_extraction_vit.py:30: FutureWarning: The class ViTFeatureExtractor is deprecated and will be removed in version 5 of Transformers. Please use ViTImageProcessor instead.\n",
      "  warnings.warn(\n"
     ]
    }
   ],
   "source": [
    "extractor = ViTFeatureExtractor.from_pretrained(\"google/vit-base-patch16-224-in21k\")"
   ]
  },
  {
   "cell_type": "code",
   "execution_count": 5,
   "id": "26124dce",
   "metadata": {},
   "outputs": [],
   "source": [
    "train_transform = transforms.Compose([\n",
    "        transforms.RandomResizedCrop(224),\n",
    "        transforms.RandomHorizontalFlip(),\n",
    "        transforms.ColorJitter(brightness=0.2, contrast=0.2, saturation=0.2, hue=0.2),\n",
    "        transforms.ToTensor(),\n",
    "        transforms.Normalize(mean=[0.485, 0.456, 0.406], std=[0.229, 0.224, 0.225])\n",
    "    ])\n",
    "val_transform = transforms.Compose([\n",
    "        transforms.Resize(256),\n",
    "        transforms.CenterCrop(224),\n",
    "        transforms.ToTensor(),\n",
    "        transforms.Normalize(mean=[0.485, 0.456, 0.406], std=[0.229, 0.224, 0.225])\n",
    "    ])"
   ]
  },
  {
   "cell_type": "code",
   "execution_count": 6,
   "id": "0e4c3e85",
   "metadata": {},
   "outputs": [],
   "source": [
    "# def get_splits(img_size=(224,224),batch_size=64,val_split=0.1,seed=42,train_dir=folderPath+\"train\" ):\n",
    "#     train_ds=image_dataset\n",
    "\n",
    "full_dataset= datasets.ImageFolder(root=TRAIN_DIR,transform=train_transform)\n",
    "\n",
    "\n"
   ]
  },
  {
   "cell_type": "code",
   "execution_count": 7,
   "id": "27d70e9a",
   "metadata": {},
   "outputs": [],
   "source": [
    "# Define split ratios (e.g., 70% train, 15% validation, 15% test)\n",
    "train_size = int(0.9 * len((full_dataset)))\n",
    "val_size = len(full_dataset) - train_size\n",
    "\n",
    "# Split the dataset\n",
    "train_dataset, val_dataset = random_split(\n",
    "    full_dataset, [train_size, val_size]\n",
    ")"
   ]
  },
  {
   "cell_type": "code",
   "execution_count": 8,
   "id": "b1246178",
   "metadata": {},
   "outputs": [],
   "source": [
    "val_dataset.dataset.transform = val_transform\n",
    "\n",
    "train_loader = DataLoader(train_dataset,batch_size= BATCH_SIZE,shuffle=True,num_workers=4)\n",
    "val_loader = DataLoader(val_dataset,batch_size= BATCH_SIZE,shuffle=False,num_workers=4)"
   ]
  },
  {
   "cell_type": "code",
   "execution_count": 9,
   "id": "88c066e6",
   "metadata": {},
   "outputs": [
    {
     "data": {
      "application/vnd.jupyter.widget-view+json": {
       "model_id": "33a33e13cb814e38b540c80b1d23b42f",
       "version_major": 2,
       "version_minor": 0
      },
      "text/plain": [
       "config.json:   0%|          | 0.00/502 [00:00<?, ?B/s]"
      ]
     },
     "metadata": {},
     "output_type": "display_data"
    },
    {
     "data": {
      "application/vnd.jupyter.widget-view+json": {
       "model_id": "290e84238af64732bc17f8e7a3c47391",
       "version_major": 2,
       "version_minor": 0
      },
      "text/plain": [
       "model.safetensors:   0%|          | 0.00/346M [00:00<?, ?B/s]"
      ]
     },
     "metadata": {},
     "output_type": "display_data"
    },
    {
     "name": "stderr",
     "output_type": "stream",
     "text": [
      "Some weights of ViTForImageClassification were not initialized from the model checkpoint at google/vit-base-patch16-224-in21k and are newly initialized: ['classifier.bias', 'classifier.weight']\n",
      "You should probably TRAIN this model on a down-stream task to be able to use it for predictions and inference.\n"
     ]
    }
   ],
   "source": [
    "model = ViTForImageClassification.from_pretrained(\n",
    "    \"google/vit-base-patch16-224-in21k\",\n",
    "    num_labels=NUM_CLASSES\n",
    ")"
   ]
  },
  {
   "cell_type": "code",
   "execution_count": 10,
   "id": "77c2e510",
   "metadata": {},
   "outputs": [],
   "source": [
    "optimizer = torch.optim.AdamW(model.parameters(),lr=5e-5)\n",
    "criterion = nn.CrossEntropyLoss()"
   ]
  },
  {
   "cell_type": "code",
   "execution_count": 11,
   "id": "f613fc7f",
   "metadata": {},
   "outputs": [
    {
     "name": "stderr",
     "output_type": "stream",
     "text": [
      "Epoch 1/5 [Train]: 100%|██████████| 811/811 [1:20:23<00:00,  5.95s/it, acc=0.596, loss=1.1] \n"
     ]
    },
    {
     "name": "stdout",
     "output_type": "stream",
     "text": [
      "Epoch 1 - Val loss:  0.9201, Val Acc:0.6618\n"
     ]
    },
    {
     "name": "stderr",
     "output_type": "stream",
     "text": [
      "Epoch 2/5 [Train]: 100%|██████████| 811/811 [1:18:24<00:00,  5.80s/it, acc=0.71, loss=0.807] \n"
     ]
    },
    {
     "name": "stdout",
     "output_type": "stream",
     "text": [
      "Epoch 2 - Val loss:  0.8694, Val Acc:0.6781\n"
     ]
    },
    {
     "name": "stderr",
     "output_type": "stream",
     "text": [
      "Epoch 3/5 [Train]: 100%|██████████| 811/811 [1:17:46<00:00,  5.75s/it, acc=0.791, loss=0.601]\n"
     ]
    },
    {
     "name": "stdout",
     "output_type": "stream",
     "text": [
      "Epoch 3 - Val loss:  0.8760, Val Acc:0.6937\n"
     ]
    },
    {
     "name": "stderr",
     "output_type": "stream",
     "text": [
      "Epoch 4/5 [Train]: 100%|██████████| 811/811 [1:15:16<00:00,  5.57s/it, acc=0.87, loss=0.396] \n"
     ]
    },
    {
     "name": "stdout",
     "output_type": "stream",
     "text": [
      "Epoch 4 - Val loss:  0.9933, Val Acc:0.6889\n"
     ]
    },
    {
     "name": "stderr",
     "output_type": "stream",
     "text": [
      "Epoch 5/5 [Train]: 100%|██████████| 811/811 [1:17:58<00:00,  5.77s/it, acc=0.925, loss=0.243]\n"
     ]
    },
    {
     "name": "stdout",
     "output_type": "stream",
     "text": [
      "Epoch 5 - Val loss:  1.0595, Val Acc:0.6916\n",
      "Model saved\n"
     ]
    }
   ],
   "source": [
    "for epoch in range(EPOCHS):\n",
    "    model.train()\n",
    "    running_loss = 0.0\n",
    "    correct=0\n",
    "    total=0\n",
    "    loop=tqdm(train_loader,desc=f\"Epoch {epoch+1}/{EPOCHS} [Train]\")\n",
    "    for images,labels in loop:\n",
    "      #  images,labels = images.to(DEVICE) ,labels.to(DEVICE)\n",
    "       optimizer.zero_grad()\n",
    "       outputs = model(images).logits\n",
    "       loss = criterion(outputs,labels)\n",
    "       loss.backward()\n",
    "       optimizer.step()\n",
    "\n",
    "       running_loss += loss.item()\n",
    "       _,preds = torch.max(outputs,1)\n",
    "       correct +=(preds ==labels).sum().item()\n",
    "       total += labels.size(0)\n",
    "       loop.set_postfix(loss=running_loss/(total/BATCH_SIZE),acc = correct/total)\n",
    "\n",
    "\n",
    "    model.eval()\n",
    "    val_correct,val_total = 0,0\n",
    "    val_loss = 0.0\n",
    "    with torch.no_grad():\n",
    "        for images,labels in val_loader:\n",
    "          #  images,labels = images.to(DEVICE) ,labels.to(DEVICE)\n",
    "           outputs = model(images).logits\n",
    "           loss = criterion(outputs,labels)\n",
    "           val_loss += loss.item()\n",
    "           _,preds = torch.max(outputs,1)\n",
    "           val_correct += (preds == labels).sum().item()\n",
    "           val_total += labels.size(0)\n",
    "    print(f\"Epoch {epoch+1} - Val loss: {val_loss/len(val_loader): .4f}, Val Acc:{val_correct/val_total:.4f}\")\n",
    "\n",
    "\n",
    "torch.save(model.state_dict(),\"vit_emotion_pytorch.pth\")\n",
    "print(\"Model saved\")"
   ]
  },
  {
   "cell_type": "code",
   "execution_count": null,
   "id": "376554fa",
   "metadata": {},
   "outputs": [],
   "source": []
  }
 ],
 "metadata": {
  "kernelspec": {
   "display_name": ".venv",
   "language": "python",
   "name": "python3"
  },
  "language_info": {
   "codemirror_mode": {
    "name": "ipython",
    "version": 3
   },
   "file_extension": ".py",
   "mimetype": "text/x-python",
   "name": "python",
   "nbconvert_exporter": "python",
   "pygments_lexer": "ipython3",
   "version": "3.11.13"
  }
 },
 "nbformat": 4,
 "nbformat_minor": 5
}
