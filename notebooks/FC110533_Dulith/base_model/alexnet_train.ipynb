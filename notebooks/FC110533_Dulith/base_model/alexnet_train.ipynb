{
 "cells": [
  {
   "cell_type": "markdown",
   "id": "400800f4",
   "metadata": {},
   "source": [
    "**# Model Training using AlexNet Architecture#**"
   ]
  },
  {
   "cell_type": "code",
   "execution_count": 1,
   "id": "cc0d8c95",
   "metadata": {},
   "outputs": [],
   "source": [
    "import os\n",
    "import numpy as np\n",
    "import random\n",
    "from tensorflow.keras.models import Sequential\n",
    "from tensorflow.keras.layers import Conv2D, MaxPooling2D, Flatten, Dense, Dropout, Activation, BatchNormalization\n",
    "from tensorflow.keras.utils import Sequence, to_categorical\n",
    "from tensorflow.keras.callbacks import ModelCheckpoint\n",
    "from tensorflow.keras.callbacks import EarlyStopping"
   ]
  },
  {
   "cell_type": "code",
   "execution_count": 2,
   "id": "9fae0f90",
   "metadata": {},
   "outputs": [],
   "source": [
    "#paths and parameters\n",
    "TRAIN_DIR = '/workspaces/Emotion_detector/notebooks/FC110533_Dulith/base_model/preprocessed_data/train'\n",
    "VAL_DIR = '/workspaces/Emotion_detector/notebooks/FC110533_Dulith/base_model/preprocessed_data/validation'\n",
    "MODEL_PATH = '/workspaces/Emotion_detector/notebooks/FC110533_Dulith/base_model/model/modeldp1_best.h5'\n",
    "INPUT_SHAPE = (128, 128, 1)\n",
    "EPOCHS = 20\n",
    "BATCH_SIZE = 128\n",
    "CLASS_NAMES = ['angry', 'disgust', 'fear', 'happy', 'neutral', 'sad', 'surprise']\n",
    "CLASS_TO_IDX = {name: idx for idx, name in enumerate(CLASS_NAMES)}"
   ]
  },
  {
   "cell_type": "code",
   "execution_count": 3,
   "id": "d15800ff",
   "metadata": {},
   "outputs": [],
   "source": [
    "class NPYDataGenerator(Sequence):\n",
    "    def __init__(self, root_dir, class_names, class_to_idx, batch_size=32, shuffle=True):\n",
    "        self.root_dir = root_dir\n",
    "        self.class_names = class_names\n",
    "        self.class_to_idx = class_to_idx\n",
    "        self.batch_size = batch_size\n",
    "        self.shuffle = shuffle\n",
    "        self.samples = []\n",
    "        for class_name in class_names:\n",
    "            class_dir = os.path.join(root_dir, class_name)\n",
    "            if not os.path.isdir(class_dir):\n",
    "                continue\n",
    "            for fname in os.listdir(class_dir):\n",
    "                if fname.endswith('.npy'):\n",
    "                    self.samples.append((os.path.join(class_dir, fname), class_to_idx[class_name]))\n",
    "        self.on_epoch_end()\n",
    "\n",
    "    def __len__(self):\n",
    "        return int(np.ceil(len(self.samples) / self.batch_size))\n",
    "\n",
    "    def __getitem__(self, idx):\n",
    "        batch_samples = self.samples[idx * self.batch_size:(idx + 1) * self.batch_size]\n",
    "        X = []\n",
    "        y = []\n",
    "        for fpath, label in batch_samples:\n",
    "            img = np.load(fpath)\n",
    "            X.append(img)\n",
    "            y.append(label)\n",
    "        X = np.stack(X)\n",
    "        y = np.array(y)\n",
    "        y = to_categorical(y, num_classes=len(self.class_names))\n",
    "        return X, y\n",
    "\n",
    "    def on_epoch_end(self):\n",
    "        if self.shuffle:\n",
    "            random.shuffle(self.samples)"
   ]
  },
  {
   "cell_type": "code",
   "execution_count": 4,
   "id": "a1117ef1",
   "metadata": {},
   "outputs": [],
   "source": [
    "#Build AlexNet model\n",
    "def build_my_model(input_shape=(128, 128, 1), num_classes=7):\n",
    "    model = Sequential()\n",
    "    model.add(Conv2D(48, (11, 11), strides=4, padding='same', input_shape=input_shape))  # 48 instead of 96\n",
    "    model.add(BatchNormalization())\n",
    "    model.add(Activation('relu'))\n",
    "    model.add(MaxPooling2D(pool_size=(3, 3), strides=2))\n",
    "\n",
    "    model.add(Conv2D(128, (5, 5), padding='same'))  # 128 instead of 256\n",
    "    model.add(BatchNormalization())\n",
    "    model.add(Activation('relu'))\n",
    "    model.add(MaxPooling2D(pool_size=(3, 3), strides=2))\n",
    "\n",
    "    model.add(Conv2D(192, (3, 3), padding='same', activation='relu'))  # 192 instead of 384\n",
    "    model.add(Conv2D(192, (3, 3), padding='same', activation='relu'))\n",
    "    model.add(Conv2D(128, (3, 3), padding='same', activation='relu'))  # 128 instead of 256\n",
    "    model.add(MaxPooling2D(pool_size=(3, 3), strides=2))\n",
    "\n",
    "    model.add(Flatten())\n",
    "    model.add(Dense(512, activation='relu'))  # 512 instead of 4096\n",
    "    model.add(Dropout(0.5))\n",
    "    model.add(Dense(512, activation='relu'))\n",
    "    model.add(Dropout(0.5))\n",
    "    model.add(Dense(num_classes, activation='softmax'))\n",
    "    return model\n"
   ]
  },
  {
   "cell_type": "code",
   "execution_count": 5,
   "id": "55d31db0",
   "metadata": {},
   "outputs": [
    {
     "name": "stdout",
     "output_type": "stream",
     "text": [
      "Number of training batches: 226\n",
      "Number of validation batches: 56\n"
     ]
    }
   ],
   "source": [
    "# Create generators for training and validation\n",
    "train_gen = NPYDataGenerator(TRAIN_DIR, CLASS_NAMES, CLASS_TO_IDX, batch_size=BATCH_SIZE)\n",
    "val_gen = NPYDataGenerator(VAL_DIR, CLASS_NAMES, CLASS_TO_IDX, batch_size=BATCH_SIZE, shuffle=False)\n",
    "\n",
    "print(f\"Number of training batches: {len(train_gen)}\")\n",
    "print(f\"Number of validation batches: {len(val_gen)}\")"
   ]
  },
  {
   "cell_type": "code",
   "execution_count": null,
   "id": "112d18c3",
   "metadata": {},
   "outputs": [],
   "source": [
    "early_stop = EarlyStopping(monitor='val_loss', patience=3, restore_best_weights=True)\n",
    "#Training will stop when the validation accuracy is not improving for 3 consecutive epochs."
   ]
  },
  {
   "cell_type": "code",
   "execution_count": null,
   "id": "8557d7b6",
   "metadata": {},
   "outputs": [],
   "source": [
    "model = build_my_model(input_shape=INPUT_SHAPE, num_classes=len(CLASS_NAMES))\n",
    "model.compile(optimizer='adam', loss='categorical_crossentropy', metrics=['accuracy'])\n",
    "\n",
    "checkpoint = ModelCheckpoint(MODEL_PATH, monitor='val_accuracy', save_best_only=True, verbose=1)\n",
    "\n",
    "model.fit(\n",
    "    train_gen,\n",
    "    validation_data=val_gen,\n",
    "    epochs=EPOCHS,\n",
    "    callbacks=[checkpoint, early_stop]\n",
    ")"
   ]
  },
  {
   "cell_type": "markdown",
   "id": "62b5ddac",
   "metadata": {},
   "source": [
    "Number of training batches: 226\n",
    "Number of validation batches: 56\n",
    "Epoch 1/20\n",
    "226/226 ━━━━━━━━━━━━━━━━━━━━ 0s 2s/step - accuracy: 0.2265 - loss: 1.8694\n",
    "Epoch 1: val_accuracy improved from -inf to 0.30201, saving model to /workspaces/Emotion_detector/notebooks/FC110533_Dulith/base_model/model/modeldp1_best.h5\n",
    "WARNING:absl:You are saving your model as an HDF5 file via `model.save()` or `keras.saving.save_model(model)`. This file format is considered legacy. We recommend using instead the native Keras format, e.g. `model.save('my_model.keras')` or `keras.saving.save_model(model, 'my_model.keras')`. \n",
    "226/226 ━━━━━━━━━━━━━━━━━━━━ 395s 2s/step - accuracy: 0.2266 - loss: 1.8691 - val_accuracy: 0.3020 - val_loss: 1.7605\n",
    "Epoch 2/20\n",
    "226/226 ━━━━━━━━━━━━━━━━━━━━ 0s 2s/step - accuracy: 0.3765 - loss: 1.5801\n",
    "Epoch 2: val_accuracy improved from 0.30201 to 0.37334, saving model to /workspaces/Emotion_detector/notebooks/FC110533_Dulith/base_model/model/modeldp1_best.h5\n",
    "WARNING:absl:You are saving your model as an HDF5 file via `model.save()` or `keras.saving.save_model(model)`. This file format is considered legacy. We recommend using instead the native Keras format, e.g. `model.save('my_model.keras')` or `keras.saving.save_model(model, 'my_model.keras')`. \n",
    "226/226 ━━━━━━━━━━━━━━━━━━━━ 460s 2s/step - accuracy: 0.3765 - loss: 1.5799 - val_accuracy: 0.3733 - val_loss: 1.6277\n",
    "Epoch 3/20\n",
    "226/226 ━━━━━━━━━━━━━━━━━━━━ 0s 2s/step - accuracy: 0.4541 - loss: 1.4069\n",
    "Epoch 3: val_accuracy improved from 0.37334 to 0.47141, saving model to /workspaces/Emotion_detector/notebooks/FC110533_Dulith/base_model/model/modeldp1_best.h5\n",
    "WARNING:absl:You are saving your model as an HDF5 file via `model.save()` or `keras.saving.save_model(model)`. This file format is considered legacy. We recommend using instead the native Keras format, e.g. `model.save('my_model.keras')` or `keras.saving.save_model(model, 'my_model.keras')`. \n",
    "226/226 ━━━━━━━━━━━━━━━━━━━━ 457s 2s/step - accuracy: 0.4542 - loss: 1.4068 - val_accuracy: 0.4714 - val_loss: 1.3612\n",
    "Epoch 4/20\n",
    "226/226 ━━━━━━━━━━━━━━━━━━━━ 0s 2s/step - accuracy: 0.4951 - loss: 1.3016\n",
    "Epoch 4: val_accuracy improved from 0.47141 to 0.49264, saving model to /workspaces/Emotion_detector/notebooks/FC110533_Dulith/base_model/model/modeldp1_best.h5\n",
    "WARNING:absl:You are saving your model as an HDF5 file via `model.save()` or `keras.saving.save_model(model)`. This file format is considered legacy. We recommend using instead the native Keras format, e.g. `model.save('my_model.keras')` or `keras.saving.save_model(model, 'my_model.keras')`. \n",
    "226/226 ━━━━━━━━━━━━━━━━━━━━ 445s 2s/step - accuracy: 0.4951 - loss: 1.3016 - val_accuracy: 0.4926 - val_loss: 1.3117\n",
    "Epoch 5/20\n",
    "226/226 ━━━━━━━━━━━━━━━━━━━━ 0s 2s/step - accuracy: 0.5300 - loss: 1.2312\n",
    "Epoch 5: val_accuracy did not improve from 0.49264\n",
    "226/226 ━━━━━━━━━━━━━━━━━━━━ 460s 2s/step - accuracy: 0.5299 - loss: 1.2312 - val_accuracy: 0.4558 - val_loss: 1.3961\n",
    "Epoch 6/20\n",
    "226/226 ━━━━━━━━━━━━━━━━━━━━ 0s 2s/step - accuracy: 0.5391 - loss: 1.2059\n",
    "Epoch 6: val_accuracy improved from 0.49264 to 0.51670, saving model to /workspaces/Emotion_detector/notebooks/FC110533_Dulith/base_model/model/modeldp1_best.h5\n",
    "WARNING:absl:You are saving your model as an HDF5 file via `model.save()` or `keras.saving.save_model(model)`. This file format is considered legacy. We recommend using instead the native Keras format, e.g. `model.save('my_model.keras')` or `keras.saving.save_model(model, 'my_model.keras')`. \n",
    "226/226 ━━━━━━━━━━━━━━━━━━━━ 476s 2s/step - accuracy: 0.5392 - loss: 1.2058 - val_accuracy: 0.5167 - val_loss: 1.2661\n",
    "Epoch 7/20\n",
    "226/226 ━━━━━━━━━━━━━━━━━━━━ 0s 2s/step - accuracy: 0.5589 - loss: 1.1576\n",
    "Epoch 7: val_accuracy improved from 0.51670 to 0.53566, saving model to /workspaces/Emotion_detector/notebooks/FC110533_Dulith/base_model/model/modeldp1_best.h5\n",
    "WARNING:absl:You are saving your model as an HDF5 file via `model.save()` or `keras.saving.save_model(model)`. This file format is considered legacy. We recommend using instead the native Keras format, e.g. `model.save('my_model.keras')` or `keras.saving.save_model(model, 'my_model.keras')`. \n",
    "226/226 ━━━━━━━━━━━━━━━━━━━━ 449s 2s/step - accuracy: 0.5589 - loss: 1.1576 - val_accuracy: 0.5357 - val_loss: 1.2231\n",
    "Epoch 8/20\n",
    "226/226 ━━━━━━━━━━━━━━━━━━━━ 0s 1s/step - accuracy: 0.5811 - loss: 1.0993\n",
    "Epoch 8: val_accuracy did not improve from 0.53566\n",
    "226/226 ━━━━━━━━━━━━━━━━━━━━ 350s 2s/step - accuracy: 0.5811 - loss: 1.0993 - val_accuracy: 0.5159 - val_loss: 1.2564\n",
    "Epoch 9/20\n",
    "226/226 ━━━━━━━━━━━━━━━━━━━━ 0s 2s/step - accuracy: 0.6023 - loss: 1.0534\n",
    "Epoch 9: val_accuracy improved from 0.53566 to 0.53948, saving model to /workspaces/Emotion_detector/notebooks/FC110533_Dulith/base_model/model/modeldp1_best.h5\n",
    "WARNING:absl:You are saving your model as an HDF5 file via `model.save()` or `keras.saving.save_model(model)`. This file format is considered legacy. We recommend using instead the native Keras format, e.g. `model.save('my_model.keras')` or `keras.saving.save_model(model, 'my_model.keras')`. \n",
    "226/226 ━━━━━━━━━━━━━━━━━━━━ 413s 2s/step - accuracy: 0.6022 - loss: 1.0534 - val_accuracy: 0.5395 - val_loss: 1.2342\n",
    "Epoch 10/20\n",
    "226/226 ━━━━━━━━━━━━━━━━━━━━ 0s 2s/step - accuracy: 0.6138 - loss: 1.0113\n",
    "Epoch 10: val_accuracy did not improve from 0.53948\n",
    "226/226 ━━━━━━━━━━━━━━━━━━━━ 371s 2s/step - accuracy: 0.6138 - loss: 1.0114 - val_accuracy: 0.5137 - val_loss: 1.3069\n",
    "<keras.src.callbacks.history.History at 0xffff02a656a0>"
   ]
  }
 ],
 "metadata": {
  "kernelspec": {
   "display_name": "ml-env",
   "language": "python",
   "name": "python3"
  },
  "language_info": {
   "codemirror_mode": {
    "name": "ipython",
    "version": 3
   },
   "file_extension": ".py",
   "mimetype": "text/x-python",
   "name": "python",
   "nbconvert_exporter": "python",
   "pygments_lexer": "ipython3",
   "version": "3.9.23"
  }
 },
 "nbformat": 4,
 "nbformat_minor": 5
}
